{
 "cells": [
  {
   "cell_type": "code",
   "execution_count": 1,
   "metadata": {},
   "outputs": [],
   "source": [
    "import pandas as pd\n",
    "import matplotlib.pyplot as plt\n",
    "from nltk import FreqDist, word_tokenize\n",
    "from nltk.corpus import stopwords\n",
    "import numpy as np\n",
    "import json\n",
    "\n",
    "\n"
   ]
  },
  {
   "cell_type": "code",
   "execution_count": 2,
   "metadata": {},
   "outputs": [
    {
     "data": {
      "text/html": [
       "<div>\n",
       "<style scoped>\n",
       "    .dataframe tbody tr th:only-of-type {\n",
       "        vertical-align: middle;\n",
       "    }\n",
       "\n",
       "    .dataframe tbody tr th {\n",
       "        vertical-align: top;\n",
       "    }\n",
       "\n",
       "    .dataframe thead th {\n",
       "        text-align: right;\n",
       "    }\n",
       "</style>\n",
       "<table border=\"1\" class=\"dataframe\">\n",
       "  <thead>\n",
       "    <tr style=\"text-align: right;\">\n",
       "      <th></th>\n",
       "      <th>text</th>\n",
       "    </tr>\n",
       "  </thead>\n",
       "  <tbody>\n",
       "    <tr>\n",
       "      <th>0</th>\n",
       "      <td>“Well, Prince, so Genoa and Lucca are now just...</td>\n",
       "    </tr>\n",
       "  </tbody>\n",
       "</table>\n",
       "</div>"
      ],
      "text/plain": [
       "                                                text\n",
       "0  “Well, Prince, so Genoa and Lucca are now just..."
      ]
     },
     "execution_count": 2,
     "metadata": {},
     "output_type": "execute_result"
    }
   ],
   "source": [
    "testo=input(\"inserisci file \")\n",
    "if \".json\" in testo:\n",
    "    file=open(\"LordOfTheRingsBook.json\",encoding=\"utf-8\")\n",
    "    data=json.load(file)\n",
    "    l=[]\n",
    "    for x in data:\n",
    "        x.pop(\"BookName\")\n",
    "        x.pop(\"ChapterName\")\n",
    "        l.append(x[\"ChapterData\"])\n",
    "\n",
    "    s=\" \".join(l)\n",
    "\n",
    "    d={\"text\":[s]}\n",
    "    d1=pd.DataFrame(d)\n",
    "else:\n",
    "    db=pd.read_csv(\"war\", sep='\\t')\n",
    "    db.columns=[\"text\"]\n",
    "    l=[]\n",
    "    for x in db[\"text\"]:\n",
    "        l.append(x)\n",
    "    s=\" \".join(l)\n",
    "    d1=pd.DataFrame({\"text\":[s]})\n",
    "\n",
    "d1"
   ]
  },
  {
   "cell_type": "code",
   "execution_count": 3,
   "metadata": {},
   "outputs": [
    {
     "data": {
      "text/html": [
       "<div>\n",
       "<style scoped>\n",
       "    .dataframe tbody tr th:only-of-type {\n",
       "        vertical-align: middle;\n",
       "    }\n",
       "\n",
       "    .dataframe tbody tr th {\n",
       "        vertical-align: top;\n",
       "    }\n",
       "\n",
       "    .dataframe thead th {\n",
       "        text-align: right;\n",
       "    }\n",
       "</style>\n",
       "<table border=\"1\" class=\"dataframe\">\n",
       "  <thead>\n",
       "    <tr style=\"text-align: right;\">\n",
       "      <th></th>\n",
       "      <th>index</th>\n",
       "      <th>text</th>\n",
       "      <th>text2</th>\n",
       "      <th>token</th>\n",
       "    </tr>\n",
       "  </thead>\n",
       "  <tbody>\n",
       "    <tr>\n",
       "      <th>0</th>\n",
       "      <td>0</td>\n",
       "      <td>“Well, Prince, so Genoa and Lucca are now just...</td>\n",
       "      <td>“Well Prince so Genoa and Lucca are now just f...</td>\n",
       "      <td>[“, Well, Prince, Genoa, Lucca, family, estate...</td>\n",
       "    </tr>\n",
       "  </tbody>\n",
       "</table>\n",
       "</div>"
      ],
      "text/plain": [
       "   index                                               text  \\\n",
       "0      0  “Well, Prince, so Genoa and Lucca are now just...   \n",
       "\n",
       "                                               text2  \\\n",
       "0  “Well Prince so Genoa and Lucca are now just f...   \n",
       "\n",
       "                                               token  \n",
       "0  [“, Well, Prince, Genoa, Lucca, family, estate...  "
      ]
     },
     "execution_count": 3,
     "metadata": {},
     "output_type": "execute_result"
    }
   ],
   "source": [
    "\n",
    "def tokenization(db):                            #rimozione punteggiatura e tokenizzazione\n",
    "    db=db.reset_index()\n",
    "    db.columns=[\"index\",\"text\"]\n",
    "    sw=set(stopwords.words(\"english\"))\n",
    "    punt=[\",\",\".\",\":\",\";\",\"'\",\"!\",\"?\"]\n",
    "\n",
    "\n",
    "    def f(x):\n",
    "        x1=x\n",
    "        for y in x:\n",
    "            if y in punt:\n",
    "                x1=x1.replace(y,\"\")\n",
    "        return x1\n",
    "            \n",
    "    db[\"text2\"]=db[\"text\"].apply(f)\n",
    "    db[\"token\"]=db[\"text2\"].apply(lambda x: word_tokenize(x))\n",
    "    def f(x):\n",
    "        l=[]\n",
    "        for y in x:\n",
    "            if not y.lower() in sw:\n",
    "                l.append(y)\n",
    "        return l\n",
    "    db[\"token\"]=db[\"token\"].apply(f)\n",
    "    return db\n",
    "\n",
    "d1=tokenization(d1)\n",
    "d1"
   ]
  },
  {
   "cell_type": "code",
   "execution_count": 4,
   "metadata": {},
   "outputs": [
    {
     "name": "stdout",
     "output_type": "stream",
     "text": [
      "The main characters are ['Pierre', 'Prince', 'Natásha', 'Andrew', 'French', 'Rostóv', 'Moscow', 'Mary', 'Nicholas', 'Emperor', 'Princess', 'Napoleon', 'Kutúzov', 'Russian', 'Sónya', 'Denísov']\n"
     ]
    }
   ],
   "source": [
    "def main_character(d1):\n",
    "    def f(x):                                                      #conto frequenza parole per identificare i personaggi principali\n",
    "        mf=FreqDist(x)\n",
    "        return mf\n",
    "    d1[\"mfc\"]=d1[\"token\"].apply(f)\n",
    "\n",
    "    def f(x):                                                            # ordino la nuova colonna per i termini più frequenti\n",
    "        l=[y for y in x.items() if y[0][0].isupper()]\n",
    "        l.sort(key=lambda z: z[1],reverse=True)\n",
    "\n",
    "        d3=dict(l)\n",
    "        return d3\n",
    "    d1[\"mfc\"]=d1[\"mfc\"].apply(f)\n",
    "    return d1\n",
    "\n",
    "d1=main_character(d1)\n",
    "main=[]\n",
    "for x in d1[\"mfc\"]:\n",
    "    for y,z in enumerate(x):\n",
    "        if y<=15:\n",
    "            main.append(z)\n",
    "print(f\"The main characters are {main}\")\n"
   ]
  },
  {
   "cell_type": "code",
   "execution_count": 5,
   "metadata": {},
   "outputs": [],
   "source": [
    "from afinn import Afinn                                  #Creating afinn\n",
    "afin1=Afinn(language=\"en\")\n",
    "from afinn import Afinn\n",
    "afin1=Afinn(language=\"en\")\n",
    "\n",
    "n=pd.read_excel(\"n.xlsx\",header=None)\n",
    "p=pd.read_excel(\"p.xlsx\",header=None)\n",
    "nd={x:-2 for x in n[0]}\n",
    "pd1={x:2 for x in p[0]}\n",
    "for word,score in nd.items():\n",
    "    afin1._dict[word]=score\n",
    "for word,score in pd1.items():\n",
    "    afin1._dict[word]=score"
   ]
  },
  {
   "cell_type": "code",
   "execution_count": 6,
   "metadata": {},
   "outputs": [
    {
     "data": {
      "text/html": [
       "<div>\n",
       "<style scoped>\n",
       "    .dataframe tbody tr th:only-of-type {\n",
       "        vertical-align: middle;\n",
       "    }\n",
       "\n",
       "    .dataframe tbody tr th {\n",
       "        vertical-align: top;\n",
       "    }\n",
       "\n",
       "    .dataframe thead th {\n",
       "        text-align: right;\n",
       "    }\n",
       "</style>\n",
       "<table border=\"1\" class=\"dataframe\">\n",
       "  <thead>\n",
       "    <tr style=\"text-align: right;\">\n",
       "      <th></th>\n",
       "      <th>tx</th>\n",
       "      <th>sentiment</th>\n",
       "    </tr>\n",
       "  </thead>\n",
       "  <tbody>\n",
       "    <tr>\n",
       "      <th>0</th>\n",
       "      <td>“ Well Prince Genoa Lucca family estates Buona...</td>\n",
       "      <td>2979.0</td>\n",
       "    </tr>\n",
       "    <tr>\n",
       "      <th>1</th>\n",
       "      <td>commissioner affair passed headquarters ’ go c...</td>\n",
       "      <td>1997.0</td>\n",
       "    </tr>\n",
       "    <tr>\n",
       "      <th>2</th>\n",
       "      <td>French right Murat ’ troops advanced Borodinó ...</td>\n",
       "      <td>162.0</td>\n",
       "    </tr>\n",
       "  </tbody>\n",
       "</table>\n",
       "</div>"
      ],
      "text/plain": [
       "                                                  tx  sentiment\n",
       "0  “ Well Prince Genoa Lucca family estates Buona...     2979.0\n",
       "1  commissioner affair passed headquarters ’ go c...     1997.0\n",
       "2  French right Murat ’ troops advanced Borodinó ...      162.0"
      ]
     },
     "execution_count": 6,
     "metadata": {},
     "output_type": "execute_result"
    }
   ],
   "source": [
    "for x in d1[\"token\"]:                # creo un nuovo df con i token dividendolo in 3 parti uguali per valutare il sentiment nel tempo\n",
    "    lunghezza=len(x)\n",
    "div3=int(lunghezza/3)\n",
    "d2={\"tx\":[\" \".join([x for y in d1[\"token\"] for z,x in enumerate(y) if z<=div3]),\" \".join([x for y in d1[\"token\"] for z,x in enumerate(y) if z>div3 and z<=div3*2]),\" \".join([x for y in d1[\"token\"] for z,x in enumerate(y) if z>div3*2])]}\n",
    "d2=pd.DataFrame(d2)\n",
    "d2[\"sentiment\"]=d2[\"tx\"].apply(lambda x: afin1.score(x))\n",
    "d2"
   ]
  },
  {
   "cell_type": "code",
   "execution_count": 7,
   "metadata": {},
   "outputs": [
    {
     "name": "stdout",
     "output_type": "stream",
     "text": [
      "The sentiment connected to Pierre is 749.0\n"
     ]
    }
   ],
   "source": [
    "\n",
    "name=input(\"digit the name of a character \").capitalize()                 # scelgo il personaggio da analizzare e valuto a che sentiment è associato e a quali personaggi è legato\n",
    "l=[]\n",
    "for x in d1[\"token\"]:\n",
    "    for y,z in enumerate(x):\n",
    "        if z==name:\n",
    "            for a in range(y-7,y+7):\n",
    "                l.append(x[a])\n",
    "s1=\" \".join(l)\n",
    "print(f\"The sentiment connected to {name} is {afin1.score(s1)}\")\n",
    "\n",
    "\n",
    "\n",
    "\n"
   ]
  },
  {
   "cell_type": "code",
   "execution_count": 8,
   "metadata": {},
   "outputs": [
    {
     "name": "stdout",
     "output_type": "stream",
     "text": [
      "Pierre has most contacts with {'Prince': 157, 'Andrew': 120, 'Natásha': 96, 'Mary': 59, 'French': 57, 'Moscow': 54, 'Princess': 47, 'Nicholas': 35, 'Emperor': 28, 'Rostóv': 18, 'Russian': 17, 'Kutúzov': 17, 'Denísov': 10, 'Sónya': 10, 'Napoleon': 7}\n"
     ]
    }
   ],
   "source": [
    "diz={}\n",
    "for x in s1.split():\n",
    "    if x in main and x!=name:\n",
    "        if not x in diz:\n",
    "            diz[x]=1\n",
    "        else:\n",
    "            diz[x]+=1\n",
    "l=[x for x  in diz.items()]\n",
    "l.sort(key=lambda x:x[1],reverse=True)\n",
    "print(f\"{name} has most contacts with {dict(l)}\")\n"
   ]
  },
  {
   "cell_type": "code",
   "execution_count": 9,
   "metadata": {},
   "outputs": [],
   "source": [
    "d={}\n",
    "for b in main:\n",
    "    l1=[]\n",
    "    for x in d1[\"token\"]:\n",
    "        for y,z in enumerate(x):\n",
    "            if z==b:\n",
    "                for a in range(y-7,y+7):\n",
    "                    try:\n",
    "                        l1.append(x[a])\n",
    "                    except:\n",
    "                        pass\n",
    "    s=\" \".join(l1)\n",
    "    score=afin1.score(s)\n",
    "    d[b]=[score]\n",
    "    # print(f\"the sentiment associated with {b} is {score}\")\n",
    "d=pd.DataFrame(d).T.reset_index()\n",
    "\n",
    "    "
   ]
  },
  {
   "cell_type": "code",
   "execution_count": 10,
   "metadata": {},
   "outputs": [
    {
     "name": "stdout",
     "output_type": "stream",
     "text": [
      "The main characters are ['Pierre', 'Prince', 'Natásha', 'Andrew', 'French', 'Rostóv', 'Moscow', 'Mary', 'Nicholas', 'Emperor', 'Princess', 'Napoleon', 'Kutúzov', 'Russian', 'Sónya', 'Denísov']\n",
      "Pierre has most contacts with {'Prince': 157, 'Andrew': 120, 'Natásha': 96, 'Mary': 59, 'French': 57, 'Moscow': 54, 'Princess': 47, 'Nicholas': 35, 'Emperor': 28, 'Rostóv': 18, 'Russian': 17, 'Kutúzov': 17, 'Denísov': 10, 'Sónya': 10, 'Napoleon': 7}\n",
      "The sentiment connected to Pierre is 749.0\n"
     ]
    },
    {
     "data": {
      "text/plain": [
       "Text(0.5, 1.0, 'sentiment of the book')"
      ]
     },
     "execution_count": 10,
     "metadata": {},
     "output_type": "execute_result"
    },
    {
     "data": {
      "image/png": "[encoded data removed]",
      "text/plain": [
       "<Figure size 640x480 with 1 Axes>"
      ]
     },
     "metadata": {},
     "output_type": "display_data"
    }
   ],
   "source": [
    "print(f\"The main characters are {main}\")\n",
    "print(f\"{name} has most contacts with {dict(l)}\")\n",
    "print(f\"The sentiment connected to {name} is {afin1.score(s1)}\")\n",
    "plt.bar(d2.index,d2[\"sentiment\"]);\n",
    "plt.title(\"sentiment of the book\")"
   ]
  },
  {
   "cell_type": "code",
   "execution_count": 11,
   "metadata": {},
   "outputs": [
    {
     "data": {
      "text/plain": [
       "Text(0.5, 1.0, 'Pierre has most contacts with...')"
      ]
     },
     "execution_count": 11,
     "metadata": {},
     "output_type": "execute_result"
    },
    {
     "data": {
      "image/png": "[encoded data removed]",
      "text/plain": [
       "<Figure size 640x480 with 1 Axes>"
      ]
     },
     "metadata": {},
     "output_type": "display_data"
    }
   ],
   "source": [
    "d3=dict(l[:5])\n",
    "dc={}\n",
    "for x in d3:\n",
    "    dc[x]=[d3[x]]\n",
    "dc=pd.DataFrame(dc).T.reset_index()\n",
    "\n",
    "plt.bar(dc[\"index\"],dc[0])\n",
    "plt.title(f\"{name} has most contacts with...\")\n",
    "\n"
   ]
  },
  {
   "cell_type": "code",
   "execution_count": 12,
   "metadata": {},
   "outputs": [
    {
     "data": {
      "text/plain": [
       "Text(0.5, 1.0, 'sentiment associated to main characters')"
      ]
     },
     "execution_count": 12,
     "metadata": {},
     "output_type": "execute_result"
    },
    {
     "data": {
      "image/png": "[encoded data removed]",
      "text/plain": [
       "<Figure size 640x480 with 1 Axes>"
      ]
     },
     "metadata": {},
     "output_type": "display_data"
    }
   ],
   "source": [
    "d=d.sort_values(by=0)\n",
    "plt.barh(d[\"index\"],d[0])\n",
    "plt.title(\"sentiment associated to main characters\")"
   ]
  },
  {
   "cell_type": "code",
   "execution_count": 13,
   "metadata": {},
   "outputs": [
    {
     "name": "stdout",
     "output_type": "stream",
     "text": [
      "                                                  tx  sentiment  \\\n",
      "0  “ Well Prince Genoa Lucca family estates Buona...     2979.0   \n",
      "1  commissioner affair passed headquarters ’ go c...     1997.0   \n",
      "2  French right Murat ’ troops advanced Borodinó ...      162.0   \n",
      "\n",
      "                                                name  \n",
      "0       Prince  Andrew  Anna\n",
      "0      99      66    53  \n",
      "1     Andrew  Prince  Natásha\n",
      "0      49      48  ...  \n",
      "2     Natásha  Mary  French\n",
      "0       58    44      41  \n"
     ]
    }
   ],
   "source": [
    "\n",
    "def f(x):                                                # valutare anche sentiment \n",
    "    d={}\n",
    "    l=[]\n",
    "    x1=x.split()\n",
    "    for y,z in enumerate(x1):\n",
    "        if z==name:\n",
    "            for a in range(y-7,y+7):\n",
    "                if x1[a]!=name:\n",
    "                    l.append(x1[a])\n",
    "    for b in l:\n",
    "        if b[0].isupper():\n",
    "            if b in d:\n",
    "                d[b]+=1\n",
    "            else:\n",
    "                d[b]=1\n",
    "    l1=[x for x in d.items()]\n",
    "    l1.sort(key=lambda x: x[1],reverse=True)\n",
    "    d3={}\n",
    "    for x in l1[:3]:\n",
    "        d3[x[0]]=[x[1]]\n",
    "    return pd.DataFrame(d3)\n",
    "\n",
    "d2[\"name\"]=d2[\"tx\"].apply(f)\n",
    "\n",
    "\n",
    "\n",
    "print(d2)\n",
    "            \n",
    "\n",
    "# d2"
   ]
  },
  {
   "cell_type": "code",
   "execution_count": 14,
   "metadata": {},
   "outputs": [
    {
     "data": {
      "text/html": [
       "<div>\n",
       "<style scoped>\n",
       "    .dataframe tbody tr th:only-of-type {\n",
       "        vertical-align: middle;\n",
       "    }\n",
       "\n",
       "    .dataframe tbody tr th {\n",
       "        vertical-align: top;\n",
       "    }\n",
       "\n",
       "    .dataframe thead th {\n",
       "        text-align: right;\n",
       "    }\n",
       "</style>\n",
       "<table border=\"1\" class=\"dataframe\">\n",
       "  <thead>\n",
       "    <tr style=\"text-align: right;\">\n",
       "      <th></th>\n",
       "      <th>tx</th>\n",
       "      <th>part</th>\n",
       "      <th>sentiment</th>\n",
       "      <th>name</th>\n",
       "      <th>numcit</th>\n",
       "    </tr>\n",
       "  </thead>\n",
       "  <tbody>\n",
       "    <tr>\n",
       "      <th>0</th>\n",
       "      <td>“ Well Prince Genoa Lucca family estates Buona...</td>\n",
       "      <td>part1</td>\n",
       "      <td>2979.0</td>\n",
       "      <td>Prince  Andrew  Anna\n",
       "0      99      66    53</td>\n",
       "      <td>653</td>\n",
       "    </tr>\n",
       "    <tr>\n",
       "      <th>1</th>\n",
       "      <td>commissioner affair passed headquarters ’ go c...</td>\n",
       "      <td>part2</td>\n",
       "      <td>1997.0</td>\n",
       "      <td>Andrew  Prince  Natásha\n",
       "0      49      48  ...</td>\n",
       "      <td>529</td>\n",
       "    </tr>\n",
       "    <tr>\n",
       "      <th>2</th>\n",
       "      <td>French right Murat ’ troops advanced Borodinó ...</td>\n",
       "      <td>part3</td>\n",
       "      <td>162.0</td>\n",
       "      <td>Natásha  Mary  French\n",
       "0       58    44      41</td>\n",
       "      <td>769</td>\n",
       "    </tr>\n",
       "  </tbody>\n",
       "</table>\n",
       "</div>"
      ],
      "text/plain": [
       "                                                  tx   part  sentiment  \\\n",
       "0  “ Well Prince Genoa Lucca family estates Buona...  part1     2979.0   \n",
       "1  commissioner affair passed headquarters ’ go c...  part2     1997.0   \n",
       "2  French right Murat ’ troops advanced Borodinó ...  part3      162.0   \n",
       "\n",
       "                                                name  numcit  \n",
       "0       Prince  Andrew  Anna\n",
       "0      99      66    53     653  \n",
       "1     Andrew  Prince  Natásha\n",
       "0      49      48  ...     529  \n",
       "2     Natásha  Mary  French\n",
       "0       58    44      41     769  "
      ]
     },
     "execution_count": 14,
     "metadata": {},
     "output_type": "execute_result"
    }
   ],
   "source": [
    "def f(x):\n",
    "    count=0\n",
    "    for y in x.split():\n",
    "        if y==name:\n",
    "            count+=1\n",
    "    return count\n",
    "d2[\"numcit\"]=d2[\"tx\"].apply(f)\n",
    "d2.insert(1,\"part\",[f\"part{x}\" for x in range(1,4)])\n",
    "d2"
   ]
  },
  {
   "cell_type": "code",
   "execution_count": 15,
   "metadata": {},
   "outputs": [],
   "source": [
    "def f(y):                                              # sentiment associato a name nelle diverse parti del racconto\n",
    "    l=[]\n",
    "    for z,x in enumerate(y.split()):\n",
    "        if x==name:\n",
    "            for a in range(z-7,z+7):\n",
    "                l.append(y.split()[a])\n",
    "    return afin1.score(\" \".join(l))\n",
    "d2[\"sentassociated\"]=d2[\"tx\"].apply(f)"
   ]
  },
  {
   "cell_type": "code",
   "execution_count": 16,
   "metadata": {},
   "outputs": [
    {
     "data": {
      "text/html": [
       "<div>\n",
       "<style scoped>\n",
       "    .dataframe tbody tr th:only-of-type {\n",
       "        vertical-align: middle;\n",
       "    }\n",
       "\n",
       "    .dataframe tbody tr th {\n",
       "        vertical-align: top;\n",
       "    }\n",
       "\n",
       "    .dataframe thead th {\n",
       "        text-align: right;\n",
       "    }\n",
       "</style>\n",
       "<table border=\"1\" class=\"dataframe\">\n",
       "  <thead>\n",
       "    <tr style=\"text-align: right;\">\n",
       "      <th></th>\n",
       "      <th>tx</th>\n",
       "      <th>part</th>\n",
       "      <th>sentiment</th>\n",
       "      <th>name</th>\n",
       "      <th>numcit</th>\n",
       "      <th>sentassociated</th>\n",
       "    </tr>\n",
       "  </thead>\n",
       "  <tbody>\n",
       "    <tr>\n",
       "      <th>0</th>\n",
       "      <td>“ Well Prince Genoa Lucca family estates Buona...</td>\n",
       "      <td>part1</td>\n",
       "      <td>2979.0</td>\n",
       "      <td>Prince  Andrew  Anna\n",
       "0      99      66    53</td>\n",
       "      <td>653</td>\n",
       "      <td>379.0</td>\n",
       "    </tr>\n",
       "    <tr>\n",
       "      <th>1</th>\n",
       "      <td>commissioner affair passed headquarters ’ go c...</td>\n",
       "      <td>part2</td>\n",
       "      <td>1997.0</td>\n",
       "      <td>Andrew  Prince  Natásha\n",
       "0      49      48  ...</td>\n",
       "      <td>529</td>\n",
       "      <td>139.0</td>\n",
       "    </tr>\n",
       "    <tr>\n",
       "      <th>2</th>\n",
       "      <td>French right Murat ’ troops advanced Borodinó ...</td>\n",
       "      <td>part3</td>\n",
       "      <td>162.0</td>\n",
       "      <td>Natásha  Mary  French\n",
       "0       58    44      41</td>\n",
       "      <td>769</td>\n",
       "      <td>231.0</td>\n",
       "    </tr>\n",
       "  </tbody>\n",
       "</table>\n",
       "</div>"
      ],
      "text/plain": [
       "                                                  tx   part  sentiment  \\\n",
       "0  “ Well Prince Genoa Lucca family estates Buona...  part1     2979.0   \n",
       "1  commissioner affair passed headquarters ’ go c...  part2     1997.0   \n",
       "2  French right Murat ’ troops advanced Borodinó ...  part3      162.0   \n",
       "\n",
       "                                                name  numcit  sentassociated  \n",
       "0       Prince  Andrew  Anna\n",
       "0      99      66    53     653           379.0  \n",
       "1     Andrew  Prince  Natásha\n",
       "0      49      48  ...     529           139.0  \n",
       "2     Natásha  Mary  French\n",
       "0       58    44      41     769           231.0  "
      ]
     },
     "execution_count": 16,
     "metadata": {},
     "output_type": "execute_result"
    }
   ],
   "source": [
    "d2"
   ]
  },
  {
   "cell_type": "code",
   "execution_count": 23,
   "metadata": {},
   "outputs": [
    {
     "data": {
      "text/plain": [
       "<Figure size 4000x3000 with 0 Axes>"
      ]
     },
     "metadata": {},
     "output_type": "display_data"
    },
    {
     "data": {
      "image/png": "[encoded data removed]",
      "text/plain": [
       "<Figure size 640x480 with 3 Axes>"
      ]
     },
     "metadata": {},
     "output_type": "display_data"
    },
    {
     "data": {
      "image/png": "[encoded data removed]",
      "text/plain": [
       "<Figure size 640x480 with 1 Axes>"
      ]
     },
     "metadata": {},
     "output_type": "display_data"
    },
    {
     "data": {
      "text/plain": [
       "<Figure size 4000x3000 with 0 Axes>"
      ]
     },
     "metadata": {},
     "output_type": "display_data"
    },
    {
     "data": {
      "image/png": "[encoded data removed]",
      "text/plain": [
       "<Figure size 640x480 with 3 Axes>"
      ]
     },
     "metadata": {},
     "output_type": "display_data"
    },
    {
     "name": "stdout",
     "output_type": "stream",
     "text": [
      "    index   0\n",
      "0  Prince  99\n",
      "1  Andrew  66\n",
      "2    Anna  53\n"
     ]
    },
    {
     "data": {
      "text/plain": [
       "<Figure size 640x480 with 0 Axes>"
      ]
     },
     "metadata": {},
     "output_type": "display_data"
    }
   ],
   "source": [
    "d5=d2.loc[0][\"name\"].T.reset_index()                          # rappresento i tre personaggi con cui il name interagisce di più nelle tre parti\n",
    "d6=d2.loc[1][\"name\"].T.reset_index()\n",
    "d7=d2.loc[2][\"name\"].T.reset_index()\n",
    "\n",
    "\n",
    "plt.figure(figsize=(40,30))\n",
    "fig,(ax1,ax2,ax3)=plt.subplots(nrows=1,ncols=3,sharey=True)\n",
    "\n",
    "ax1.bar(d5[\"index\"],d5[0])\n",
    "ax2.bar(d6[\"index\"],d6[0])\n",
    "ax3.bar(d7[\"index\"],d7[0])\n",
    "ax1.set_title(\"contacts in part one\")\n",
    "ax2.set_title(\"contacts in part two\")\n",
    "ax3.set_title(\"contacts in part three\")\n",
    "plt.tight_layout()\n",
    "plt.show()\n",
    "\n",
    "plt.plot(d2[\"part\"],d2[\"numcit\"])\n",
    "plt.title(f\"citation of {name}\")\n",
    "plt.show()\n",
    "\n",
    "\n",
    "plt.figure(figsize=(40,30))\n",
    "fig,(ax1,ax2,ax3)=plt.subplots(nrows=1,ncols=3,sharey=True)\n",
    "for x,y in zip([0,1,2],[ax1,ax2,ax3]):\n",
    "    db=d2.iloc[x,:]\n",
    "    y.bar(db[\"part\"],db[\"sentassociated\"])\n",
    "plt.title(f\"sentiment associated to {name}\")\n",
    "plt.show()\n",
    "plt.tight_layout()\n",
    "\n",
    "\n",
    "\n",
    "    \n",
    "\n",
    "print(d5)"
   ]
  }
 ],
 "metadata": {
  "kernelspec": {
   "display_name": "Python 3",
   "language": "python",
   "name": "python3"
  },
  "language_info": {
   "codemirror_mode": {
    "name": "ipython",
    "version": 3
   },
   "file_extension": ".py",
   "mimetype": "text/x-python",
   "name": "python",
   "nbconvert_exporter": "python",
   "pygments_lexer": "ipython3",
   "version": "3.11.5"
  }
 },
 "nbformat": 4,
 "nbformat_minor": 2
}
